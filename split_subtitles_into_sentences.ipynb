{
  "nbformat": 4,
  "nbformat_minor": 0,
  "metadata": {
    "colab": {
      "provenance": [],
      "authorship_tag": "ABX9TyMD1Zpr6RKwE+IM2N5/JNl3",
      "include_colab_link": true
    },
    "kernelspec": {
      "name": "python3",
      "display_name": "Python 3"
    },
    "language_info": {
      "name": "python"
    }
  },
  "cells": [
    {
      "cell_type": "markdown",
      "metadata": {
        "id": "view-in-github",
        "colab_type": "text"
      },
      "source": [
        "<a href=\"https://colab.research.google.com/github/detektor777/colab_list_video/blob/main/split_subtitles_into_sentences.ipynb\" target=\"_parent\"><img src=\"https://colab.research.google.com/assets/colab-badge.svg\" alt=\"Open In Colab\"/></a>"
      ]
    },
    {
      "cell_type": "code",
      "execution_count": null,
      "metadata": {
        "id": "Cuq9KV5X1Pfl"
      },
      "outputs": [],
      "source": [
        "#@title ##**Upload subtitles (.str)** { display-mode: \"form\" }\n",
        "\n",
        "from google.colab import files\n",
        "import os\n",
        "\n",
        "uploaded = files.upload()\n",
        "\n",
        "subtitle_filename = list(uploaded.keys())[0]\n",
        "print(f\"Uploaded: {subtitle_filename}\")"
      ]
    },
    {
      "cell_type": "code",
      "source": [
        "#@title ##**Split subtitles into sentences** { display-mode: \"form\" }\n",
        "import re\n",
        "from google.colab import files\n",
        "import os\n",
        "\n",
        "def srt_time_to_seconds(srt_time):\n",
        "    hours, minutes, seconds = map(float, srt_time.replace(',', '.').split(':'))\n",
        "    return hours * 3600 + minutes * 60 + seconds\n",
        "\n",
        "def seconds_to_srt_time(seconds):\n",
        "    hours = int(seconds // 3600)\n",
        "    minutes = int((seconds % 3600) // 60)\n",
        "    secs = int(seconds % 60)\n",
        "    millis = int((seconds - int(seconds)) * 1000)\n",
        "    return f\"{hours:02}:{minutes:02}:{secs:02},{millis:03}\"\n",
        "\n",
        "try:\n",
        "    with open(subtitle_filename, 'r', encoding='utf-8') as file:\n",
        "        srt_content = file.read()\n",
        "\n",
        "    subtitle_blocks = re.split(r'\\n\\n+', srt_content.strip())\n",
        "    sentences = []\n",
        "    current_sentence = []\n",
        "    current_start = None\n",
        "    current_end = None\n",
        "\n",
        "    for block in subtitle_blocks:\n",
        "        lines = block.strip().split('\\n')\n",
        "        if len(lines) < 3:\n",
        "            continue\n",
        "        timing = lines[1].split(' --> ')\n",
        "        start_time = srt_time_to_seconds(timing[0])\n",
        "        end_time = srt_time_to_seconds(timing[1])\n",
        "        text = ' '.join(lines[2:]).strip()\n",
        "\n",
        "        if current_start is None:\n",
        "            current_start = start_time\n",
        "        current_end = end_time\n",
        "        current_sentence.append(text)\n",
        "\n",
        "        if text.strip().endswith(('.', '!', '?')):\n",
        "            sentences.append({\n",
        "                'start': current_start,\n",
        "                'end': current_end,\n",
        "                'text': ' '.join(current_sentence)\n",
        "            })\n",
        "            current_sentence = []\n",
        "            current_start = None\n",
        "\n",
        "    if current_sentence and current_start is not None:\n",
        "        sentences.append({\n",
        "            'start': current_start,\n",
        "            'end': current_end,\n",
        "            'text': ' '.join(current_sentence)\n",
        "        })\n",
        "\n",
        "    new_srt_content = \"\"\n",
        "    for i, sentence in enumerate(sentences):\n",
        "        start_time = seconds_to_srt_time(sentence['start'])\n",
        "        end_time = seconds_to_srt_time(sentence['end'])\n",
        "        new_srt_content += f\"{i+1}\\n{start_time} --> {end_time}\\n{sentence['text']}\\n\\n\"\n",
        "\n",
        "    output_filename = os.path.splitext(subtitle_filename)[0] + \"_reformatted.srt\"\n",
        "    with open(output_filename, 'w', encoding='utf-8') as srt_file:\n",
        "        srt_file.write(new_srt_content)\n",
        "\n",
        "    print(f\"The reformatted SRT file is saved as {output_filename}\")\n",
        "\n",
        "    files.download(output_filename)\n",
        "\n",
        "except FileNotFoundError:\n",
        "    print(\"Subtitle file not found. Please upload the file again.\")\n",
        "except Exception as e:\n",
        "    print(f\"An error occurred: {str(e)}\")"
      ],
      "metadata": {
        "id": "ICdGsxWz1oem"
      },
      "execution_count": null,
      "outputs": []
    }
  ]
}